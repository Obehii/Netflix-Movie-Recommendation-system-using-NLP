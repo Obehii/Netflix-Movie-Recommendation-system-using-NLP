{
 "cells": [
  {
   "cell_type": "markdown",
   "id": "8ca5c670-8a64-4904-9d0a-4871d7ef3c44",
   "metadata": {
    "tags": []
   },
   "source": [
    "# Netflix Movie Recommendation system using NLP\n",
    "\n",
    "# Problem\n",
    "\n",
    "I am someone who likes to watch movies a lot and I can be indecisive about the Netflix movie to watch and it can be a real headache . \n",
    "\n",
    "# Goal\n",
    "\n",
    "To build a recommendation system that could guide me on some movies based on my previous watch.\n",
    "\n",
    "# Overview\n",
    "\n",
    "A Recommendation system that matches the content on the bases of similarities between a given set of users and a set of items(In this case Netflix movies). \n",
    "\n",
    "YouTube uses the recommendation system at a large scale to suggest you videos based on your history. For example, if you watch a lot of data science videos, it would suggest those types of videos. Let us understand this concept more deeply:\n",
    "\n",
    "![1_3m0Jmc_k0NP3_CCwnwdB7Q (1)](https://user-images.githubusercontent.com/94540485/167412591-621e9c96-84d8-449d-943e-b5738a541e2b.png)
\n",
    "\n",
    "**Content-based recommenders:** suggest similar items based on a particular item. This system uses item metadata, such as genre, director, description, actors, etc. for movies, to make these recommendations. The general idea behind these recommender systems is that if a person likes a particular item, he or she will also like an item that is similar to it. And to recommend that, it will make use of the user's past item metadata. A good example could be YouTube, where based on your history, it suggests you new videos that you could potentially watch.\n",
    "\n",
    "**Collaborative filtering engines:** This type of filter is based on users’ rates, and it will recommend movies that we haven’t watched yet, but users similar to us have and like. To determine whether two users are similar or not, this filter considers the movies both of them watched and how they rated them. Collaborative filters do not require item metadata like its content-based counterparts.\n",
    "\n",
    "***In this approach, we are going to use Content-based filtering since the data we are using does not involve any user information.***\n",
    "\n",
    "The data is gathered by Kaggle, which consist of movie and tv series data having 8807 rows and12 columns, Link of the dataset is: [https://www.kaggle.com/shivamb/netflix-shows](https://www.kaggle.com/shivamb/netflix-shows)\n",
    "\n",
    "##### IDE that I am using here is Jupyter notebook"
   ]
  },
  {
   "cell_type": "code",
   "execution_count": 32,
   "id": "a9886546-b99f-493a-9d3a-5d2288b845e6",
   "metadata": {},
   "outputs": [],
   "source": [
    "# Import packages\n",
    "from unicodedata import category\n",
    "import pandas as pd\n",
    "import numpy as np\n",
    "import matplotlib.pyplot as plt\n",
    "import seaborn as sns\n",
    "import warnings\n",
    "import collections\n",
    "\n",
    "from zmq import TCP_KEEPALIVE_CNT\n",
    "warnings.filterwarnings('ignore')\n",
    "from sklearn.feature_extraction.text import CountVectorizer\n",
    "from sklearn.metrics.pairwise import cosine_similarity"
   ]
  },
  {
   "cell_type": "markdown",
   "id": "cf8be78b-9daf-49cb-954a-4d71344ffe46",
   "metadata": {},
   "source": [
    "# Overview of the dataset:"
   ]
  },
  {
   "cell_type": "code",
   "execution_count": 33,
   "id": "1f6c9c40-04fa-49bc-9b05-8adc9d78b9ad",
   "metadata": {},
   "outputs": [
    {
     "data": {
      "text/plain": [
       "(8807, 12)"
      ]
     },
     "execution_count": 33,
     "metadata": {},
     "output_type": "execute_result"
    }
   ],
   "source": [
    "#load movie data\n",
    "data = pd.read_csv('netflix_titles.csv')\n",
    "data.head()\n",
    "data.shape"
   ]
  },
  {
   "cell_type": "markdown",
   "id": "770ef775-766e-45be-bd87-c17937ae353b",
   "metadata": {},
   "source": [
    "# Filter movie data from the dataset"
   ]
  },
  {
   "cell_type": "code",
   "execution_count": 34,
   "id": "72e7f2a4-0abf-486d-9fcf-9b312b6f68b4",
   "metadata": {},
   "outputs": [
    {
     "data": {
      "application/com.datacamp.data-table.v1+json": {
       "is_truncated": false,
       "table": {
        "data": [
         {
          "cast": null,
          "country": "United States",
          "date_added": "September 25, 2021",
          "description": "As her father nears the end of his life, filmmaker Kirsten Johnson stages his death in inventive and comical ways to help them both face the inevitable.",
          "director": "Kirsten Johnson",
          "duration": "90 min",
          "index": 0,
          "level_0": 0,
          "listed_in": "Documentaries",
          "rating": "PG-13",
          "release_year": 2020,
          "show_id": "s1",
          "title": "dick johnson is dead",
          "type": "Movie"
         },
         {
          "cast": "Vanessa Hudgens, Kimiko Glenn, James Marsden, Sofia Carson, Liza Koshy, Ken Jeong, Elizabeth Perkins, Jane Krakowski, Michael McKean, Phil LaMarr",
          "country": null,
          "date_added": "September 24, 2021",
          "description": "Equestria's divided. But a bright-eyed hero believes Earth Ponies, Pegasi and Unicorns should be pals — and, hoof to heart, she’s determined to prove it.",
          "director": "Robert Cullen, José Luis Ucha",
          "duration": "91 min",
          "index": 1,
          "level_0": 1,
          "listed_in": "Children & Family Movies",
          "rating": "PG",
          "release_year": 2021,
          "show_id": "s7",
          "title": "my little pony: a new generation",
          "type": "Movie"
         },
         {
          "cast": "Kofi Ghanaba, Oyafunmike Ogunlano, Alexandra Duah, Nick Medley, Mutabaruka, Afemo Omilami, Reggie Carter, Mzuri",
          "country": "United States, Ghana, Burkina Faso, United Kingdom, Germany, Ethiopia",
          "date_added": "September 24, 2021",
          "description": "On a photo shoot in Ghana, an American model slips back in time, becomes enslaved on a plantation and bears witness to the agony of her ancestral past.",
          "director": "Haile Gerima",
          "duration": "125 min",
          "index": 2,
          "level_0": 2,
          "listed_in": "Dramas, Independent Movies, International Movies",
          "rating": "TV-MA",
          "release_year": 1993,
          "show_id": "s8",
          "title": "sankofa",
          "type": "Movie"
         },
         {
          "cast": "Melissa McCarthy, Chris O'Dowd, Kevin Kline, Timothy Olyphant, Daveed Diggs, Skyler Gisondo, Laura Harrier, Rosalind Chao, Kimberly Quinn, Loretta Devine, Ravi Kapoor",
          "country": "United States",
          "date_added": "September 24, 2021",
          "description": "A woman adjusting to life after a loss contends with a feisty bird that's taken over her garden — and a husband who's struggling to find a way forward.",
          "director": "Theodore Melfi",
          "duration": "104 min",
          "index": 3,
          "level_0": 3,
          "listed_in": "Comedies, Dramas",
          "rating": "PG-13",
          "release_year": 2021,
          "show_id": "s10",
          "title": "the starling",
          "type": "Movie"
         },
         {
          "cast": "Luna Wedler, Jannis Niewöhner, Milan Peschel, Edin Hasanović, Anna Fialová, Marlon Boess, Victor Boccard, Fleur Geffrier, Aziz Dyab, Mélanie Fouché, Elizaveta Maximová",
          "country": "Germany, Czech Republic",
          "date_added": "September 23, 2021",
          "description": "After most of her family is murdered in a terrorist bombing, a young woman is unknowingly lured into joining the very group that killed them.",
          "director": "Christian Schwochow",
          "duration": "127 min",
          "index": 4,
          "level_0": 4,
          "listed_in": "Dramas, International Movies",
          "rating": "TV-MA",
          "release_year": 2021,
          "show_id": "s13",
          "title": "je suis karl",
          "type": "Movie"
         }
        ],
        "schema": {
         "fields": [
          {
           "name": "index",
           "type": "integer"
          },
          {
           "name": "index",
           "type": "integer"
          },
          {
           "name": "show_id",
           "type": "string"
          },
          {
           "name": "type",
           "type": "string"
          },
          {
           "name": "title",
           "type": "string"
          },
          {
           "name": "director",
           "type": "string"
          },
          {
           "name": "cast",
           "type": "string"
          },
          {
           "name": "country",
           "type": "string"
          },
          {
           "name": "date_added",
           "type": "string"
          },
          {
           "name": "release_year",
           "type": "integer"
          },
          {
           "name": "rating",
           "type": "string"
          },
          {
           "name": "duration",
           "type": "string"
          },
          {
           "name": "listed_in",
           "type": "string"
          },
          {
           "name": "description",
           "type": "string"
          }
         ],
         "pandas_version": "0.20.0",
         "primaryKey": [
          "index"
         ]
        }
       },
       "total_rows": 5
      },
      "text/html": [
       "<div>\n",
       "<style scoped>\n",
       "    .dataframe tbody tr th:only-of-type {\n",
       "        vertical-align: middle;\n",
       "    }\n",
       "\n",
       "    .dataframe tbody tr th {\n",
       "        vertical-align: top;\n",
       "    }\n",
       "\n",
       "    .dataframe thead th {\n",
       "        text-align: right;\n",
       "    }\n",
       "</style>\n",
       "<table border=\"1\" class=\"dataframe\">\n",
       "  <thead>\n",
       "    <tr style=\"text-align: right;\">\n",
       "      <th></th>\n",
       "      <th>index</th>\n",
       "      <th>show_id</th>\n",
       "      <th>type</th>\n",
       "      <th>title</th>\n",
       "      <th>director</th>\n",
       "      <th>cast</th>\n",
       "      <th>country</th>\n",
       "      <th>date_added</th>\n",
       "      <th>release_year</th>\n",
       "      <th>rating</th>\n",
       "      <th>duration</th>\n",
       "      <th>listed_in</th>\n",
       "      <th>description</th>\n",
       "    </tr>\n",
       "  </thead>\n",
       "  <tbody>\n",
       "    <tr>\n",
       "      <th>0</th>\n",
       "      <td>0</td>\n",
       "      <td>s1</td>\n",
       "      <td>Movie</td>\n",
       "      <td>dick johnson is dead</td>\n",
       "      <td>Kirsten Johnson</td>\n",
       "      <td>NaN</td>\n",
       "      <td>United States</td>\n",
       "      <td>September 25, 2021</td>\n",
       "      <td>2020</td>\n",
       "      <td>PG-13</td>\n",
       "      <td>90 min</td>\n",
       "      <td>Documentaries</td>\n",
       "      <td>As her father nears the end of his life, filmm...</td>\n",
       "    </tr>\n",
       "    <tr>\n",
       "      <th>1</th>\n",
       "      <td>1</td>\n",
       "      <td>s7</td>\n",
       "      <td>Movie</td>\n",
       "      <td>my little pony: a new generation</td>\n",
       "      <td>Robert Cullen, José Luis Ucha</td>\n",
       "      <td>Vanessa Hudgens, Kimiko Glenn, James Marsden, ...</td>\n",
       "      <td>NaN</td>\n",
       "      <td>September 24, 2021</td>\n",
       "      <td>2021</td>\n",
       "      <td>PG</td>\n",
       "      <td>91 min</td>\n",
       "      <td>Children &amp; Family Movies</td>\n",
       "      <td>Equestria's divided. But a bright-eyed hero be...</td>\n",
       "    </tr>\n",
       "    <tr>\n",
       "      <th>2</th>\n",
       "      <td>2</td>\n",
       "      <td>s8</td>\n",
       "      <td>Movie</td>\n",
       "      <td>sankofa</td>\n",
       "      <td>Haile Gerima</td>\n",
       "      <td>Kofi Ghanaba, Oyafunmike Ogunlano, Alexandra D...</td>\n",
       "      <td>United States, Ghana, Burkina Faso, United Kin...</td>\n",
       "      <td>September 24, 2021</td>\n",
       "      <td>1993</td>\n",
       "      <td>TV-MA</td>\n",
       "      <td>125 min</td>\n",
       "      <td>Dramas, Independent Movies, International Movies</td>\n",
       "      <td>On a photo shoot in Ghana, an American model s...</td>\n",
       "    </tr>\n",
       "    <tr>\n",
       "      <th>3</th>\n",
       "      <td>3</td>\n",
       "      <td>s10</td>\n",
       "      <td>Movie</td>\n",
       "      <td>the starling</td>\n",
       "      <td>Theodore Melfi</td>\n",
       "      <td>Melissa McCarthy, Chris O'Dowd, Kevin Kline, T...</td>\n",
       "      <td>United States</td>\n",
       "      <td>September 24, 2021</td>\n",
       "      <td>2021</td>\n",
       "      <td>PG-13</td>\n",
       "      <td>104 min</td>\n",
       "      <td>Comedies, Dramas</td>\n",
       "      <td>A woman adjusting to life after a loss contend...</td>\n",
       "    </tr>\n",
       "    <tr>\n",
       "      <th>4</th>\n",
       "      <td>4</td>\n",
       "      <td>s13</td>\n",
       "      <td>Movie</td>\n",
       "      <td>je suis karl</td>\n",
       "      <td>Christian Schwochow</td>\n",
       "      <td>Luna Wedler, Jannis Niewöhner, Milan Peschel, ...</td>\n",
       "      <td>Germany, Czech Republic</td>\n",
       "      <td>September 23, 2021</td>\n",
       "      <td>2021</td>\n",
       "      <td>TV-MA</td>\n",
       "      <td>127 min</td>\n",
       "      <td>Dramas, International Movies</td>\n",
       "      <td>After most of her family is murdered in a terr...</td>\n",
       "    </tr>\n",
       "  </tbody>\n",
       "</table>\n",
       "</div>"
      ],
      "text/plain": [
       "   index show_id   type                             title  \\\n",
       "0      0      s1  Movie              dick johnson is dead   \n",
       "1      1      s7  Movie  my little pony: a new generation   \n",
       "2      2      s8  Movie                           sankofa   \n",
       "3      3     s10  Movie                      the starling   \n",
       "4      4     s13  Movie                      je suis karl   \n",
       "\n",
       "                        director  \\\n",
       "0                Kirsten Johnson   \n",
       "1  Robert Cullen, José Luis Ucha   \n",
       "2                   Haile Gerima   \n",
       "3                 Theodore Melfi   \n",
       "4            Christian Schwochow   \n",
       "\n",
       "                                                cast  \\\n",
       "0                                                NaN   \n",
       "1  Vanessa Hudgens, Kimiko Glenn, James Marsden, ...   \n",
       "2  Kofi Ghanaba, Oyafunmike Ogunlano, Alexandra D...   \n",
       "3  Melissa McCarthy, Chris O'Dowd, Kevin Kline, T...   \n",
       "4  Luna Wedler, Jannis Niewöhner, Milan Peschel, ...   \n",
       "\n",
       "                                             country          date_added  \\\n",
       "0                                      United States  September 25, 2021   \n",
       "1                                                NaN  September 24, 2021   \n",
       "2  United States, Ghana, Burkina Faso, United Kin...  September 24, 2021   \n",
       "3                                      United States  September 24, 2021   \n",
       "4                            Germany, Czech Republic  September 23, 2021   \n",
       "\n",
       "   release_year rating duration  \\\n",
       "0          2020  PG-13   90 min   \n",
       "1          2021     PG   91 min   \n",
       "2          1993  TV-MA  125 min   \n",
       "3          2021  PG-13  104 min   \n",
       "4          2021  TV-MA  127 min   \n",
       "\n",
       "                                          listed_in  \\\n",
       "0                                     Documentaries   \n",
       "1                          Children & Family Movies   \n",
       "2  Dramas, Independent Movies, International Movies   \n",
       "3                                  Comedies, Dramas   \n",
       "4                      Dramas, International Movies   \n",
       "\n",
       "                                         description  \n",
       "0  As her father nears the end of his life, filmm...  \n",
       "1  Equestria's divided. But a bright-eyed hero be...  \n",
       "2  On a photo shoot in Ghana, an American model s...  \n",
       "3  A woman adjusting to life after a loss contend...  \n",
       "4  After most of her family is murdered in a terr...  "
      ]
     },
     "execution_count": 34,
     "metadata": {},
     "output_type": "execute_result"
    }
   ],
   "source": [
    "#filter movie data from dataset and covert movie title to lowercase\n",
    "net_movie = data.loc[data.type == 'Movie', :].reset_index()\n",
    "net_movie.title = net_movie.title.str.lower()\n",
    "net_movie['index'] = net_movie.index\n",
    "net_movie.head()"
   ]
  },
  {
   "cell_type": "markdown",
   "id": "5d53f914-430b-43ec-bf34-7f0e619441bc",
   "metadata": {},
   "source": [
    "# Fliter tv shows data from the dataset"
   ]
  },
  {
   "cell_type": "code",
   "execution_count": 35,
   "id": "04558ab4-d8a1-4b32-8526-a1e34229f961",
   "metadata": {},
   "outputs": [
    {
     "data": {
      "application/com.datacamp.data-table.v1+json": {
       "is_truncated": false,
       "table": {
        "data": [
         {
          "cast": "Ama Qamata, Khosi Ngema, Gail Mabalane, Thabang Molaba, Dillon Windvogel, Natasha Thahane, Arno Greeff, Xolile Tshabalala, Getmore Sithole, Cindy Mahlangu, Ryle De Morny, Greteli Fincham, Sello Maake Ka-Ncube, Odwa Gwanya, Mekaila Mathys, Sandi Schultz, Duane Williams, Shamilla Miller, Patrick Mofokeng",
          "country": "South Africa",
          "date_added": "September 24, 2021",
          "description": "After crossing paths at a party, a Cape Town teen sets out to prove whether a private-school swimming star is her sister who was abducted at birth.",
          "director": null,
          "duration": "2 Seasons",
          "index": 0,
          "level_0": 0,
          "listed_in": "International TV Shows, TV Dramas, TV Mysteries",
          "rating": "TV-MA",
          "release_year": 2021,
          "show_id": "s2",
          "title": "blood & water",
          "type": "TV Show"
         },
         {
          "cast": "Sami Bouajila, Tracy Gotoas, Samuel Jouy, Nabiha Akkari, Sofia Lesaffre, Salim Kechiouche, Noureddine Farihi, Geert Van Rampelberg, Bakary Diombera",
          "country": null,
          "date_added": "September 24, 2021",
          "description": "To protect his family from a powerful drug lord, skilled thief Mehdi and his expert team of robbers are pulled into a violent and deadly turf war.",
          "director": "Julien Leclercq",
          "duration": "1 Season",
          "index": 1,
          "level_0": 1,
          "listed_in": "Crime TV Shows, International TV Shows, TV Action & Adventure",
          "rating": "TV-MA",
          "release_year": 2021,
          "show_id": "s3",
          "title": "ganglands",
          "type": "TV Show"
         },
         {
          "cast": null,
          "country": null,
          "date_added": "September 24, 2021",
          "description": "Feuds, flirtations and toilet talk go down among the incarcerated women at the Orleans Justice Center in New Orleans on this gritty reality series.",
          "director": null,
          "duration": "1 Season",
          "index": 2,
          "level_0": 2,
          "listed_in": "Docuseries, Reality TV",
          "rating": "TV-MA",
          "release_year": 2021,
          "show_id": "s4",
          "title": "jailbirds new orleans",
          "type": "TV Show"
         },
         {
          "cast": "Mayur More, Jitendra Kumar, Ranjan Raj, Alam Khan, Ahsaas Channa, Revathi Pillai, Urvi Singh, Arun Kumar",
          "country": "India",
          "date_added": "September 24, 2021",
          "description": "In a city of coaching centers known to train India’s finest collegiate minds, an earnest but unexceptional student and his friends navigate campus life.",
          "director": null,
          "duration": "2 Seasons",
          "index": 3,
          "level_0": 3,
          "listed_in": "International TV Shows, Romantic TV Shows, TV Comedies",
          "rating": "TV-MA",
          "release_year": 2021,
          "show_id": "s5",
          "title": "kota factory",
          "type": "TV Show"
         },
         {
          "cast": "Kate Siegel, Zach Gilford, Hamish Linklater, Henry Thomas, Kristin Lehman, Samantha Sloyan, Igby Rigney, Rahul Kohli, Annarah Cymone, Annabeth Gish, Alex Essoe, Rahul Abburi, Matt Biedel, Michael Trucco, Crystal Balint, Louis Oliver",
          "country": null,
          "date_added": "September 24, 2021",
          "description": "The arrival of a charismatic young priest brings glorious miracles, ominous mysteries and renewed religious fervor to a dying town desperate to believe.",
          "director": "Mike Flanagan",
          "duration": "1 Season",
          "index": 4,
          "level_0": 4,
          "listed_in": "TV Dramas, TV Horror, TV Mysteries",
          "rating": "TV-MA",
          "release_year": 2021,
          "show_id": "s6",
          "title": "midnight mass",
          "type": "TV Show"
         }
        ],
        "schema": {
         "fields": [
          {
           "name": "index",
           "type": "integer"
          },
          {
           "name": "index",
           "type": "integer"
          },
          {
           "name": "show_id",
           "type": "string"
          },
          {
           "name": "type",
           "type": "string"
          },
          {
           "name": "title",
           "type": "string"
          },
          {
           "name": "director",
           "type": "string"
          },
          {
           "name": "cast",
           "type": "string"
          },
          {
           "name": "country",
           "type": "string"
          },
          {
           "name": "date_added",
           "type": "string"
          },
          {
           "name": "release_year",
           "type": "integer"
          },
          {
           "name": "rating",
           "type": "string"
          },
          {
           "name": "duration",
           "type": "string"
          },
          {
           "name": "listed_in",
           "type": "string"
          },
          {
           "name": "description",
           "type": "string"
          }
         ],
         "pandas_version": "0.20.0",
         "primaryKey": [
          "index"
         ]
        }
       },
       "total_rows": 5
      },
      "text/html": [
       "<div>\n",
       "<style scoped>\n",
       "    .dataframe tbody tr th:only-of-type {\n",
       "        vertical-align: middle;\n",
       "    }\n",
       "\n",
       "    .dataframe tbody tr th {\n",
       "        vertical-align: top;\n",
       "    }\n",
       "\n",
       "    .dataframe thead th {\n",
       "        text-align: right;\n",
       "    }\n",
       "</style>\n",
       "<table border=\"1\" class=\"dataframe\">\n",
       "  <thead>\n",
       "    <tr style=\"text-align: right;\">\n",
       "      <th></th>\n",
       "      <th>index</th>\n",
       "      <th>show_id</th>\n",
       "      <th>type</th>\n",
       "      <th>title</th>\n",
       "      <th>director</th>\n",
       "      <th>cast</th>\n",
       "      <th>country</th>\n",
       "      <th>date_added</th>\n",
       "      <th>release_year</th>\n",
       "      <th>rating</th>\n",
       "      <th>duration</th>\n",
       "      <th>listed_in</th>\n",
       "      <th>description</th>\n",
       "    </tr>\n",
       "  </thead>\n",
       "  <tbody>\n",
       "    <tr>\n",
       "      <th>0</th>\n",
       "      <td>0</td>\n",
       "      <td>s2</td>\n",
       "      <td>TV Show</td>\n",
       "      <td>blood &amp; water</td>\n",
       "      <td>NaN</td>\n",
       "      <td>Ama Qamata, Khosi Ngema, Gail Mabalane, Thaban...</td>\n",
       "      <td>South Africa</td>\n",
       "      <td>September 24, 2021</td>\n",
       "      <td>2021</td>\n",
       "      <td>TV-MA</td>\n",
       "      <td>2 Seasons</td>\n",
       "      <td>International TV Shows, TV Dramas, TV Mysteries</td>\n",
       "      <td>After crossing paths at a party, a Cape Town t...</td>\n",
       "    </tr>\n",
       "    <tr>\n",
       "      <th>1</th>\n",
       "      <td>1</td>\n",
       "      <td>s3</td>\n",
       "      <td>TV Show</td>\n",
       "      <td>ganglands</td>\n",
       "      <td>Julien Leclercq</td>\n",
       "      <td>Sami Bouajila, Tracy Gotoas, Samuel Jouy, Nabi...</td>\n",
       "      <td>NaN</td>\n",
       "      <td>September 24, 2021</td>\n",
       "      <td>2021</td>\n",
       "      <td>TV-MA</td>\n",
       "      <td>1 Season</td>\n",
       "      <td>Crime TV Shows, International TV Shows, TV Act...</td>\n",
       "      <td>To protect his family from a powerful drug lor...</td>\n",
       "    </tr>\n",
       "    <tr>\n",
       "      <th>2</th>\n",
       "      <td>2</td>\n",
       "      <td>s4</td>\n",
       "      <td>TV Show</td>\n",
       "      <td>jailbirds new orleans</td>\n",
       "      <td>NaN</td>\n",
       "      <td>NaN</td>\n",
       "      <td>NaN</td>\n",
       "      <td>September 24, 2021</td>\n",
       "      <td>2021</td>\n",
       "      <td>TV-MA</td>\n",
       "      <td>1 Season</td>\n",
       "      <td>Docuseries, Reality TV</td>\n",
       "      <td>Feuds, flirtations and toilet talk go down amo...</td>\n",
       "    </tr>\n",
       "    <tr>\n",
       "      <th>3</th>\n",
       "      <td>3</td>\n",
       "      <td>s5</td>\n",
       "      <td>TV Show</td>\n",
       "      <td>kota factory</td>\n",
       "      <td>NaN</td>\n",
       "      <td>Mayur More, Jitendra Kumar, Ranjan Raj, Alam K...</td>\n",
       "      <td>India</td>\n",
       "      <td>September 24, 2021</td>\n",
       "      <td>2021</td>\n",
       "      <td>TV-MA</td>\n",
       "      <td>2 Seasons</td>\n",
       "      <td>International TV Shows, Romantic TV Shows, TV ...</td>\n",
       "      <td>In a city of coaching centers known to train I...</td>\n",
       "    </tr>\n",
       "    <tr>\n",
       "      <th>4</th>\n",
       "      <td>4</td>\n",
       "      <td>s6</td>\n",
       "      <td>TV Show</td>\n",
       "      <td>midnight mass</td>\n",
       "      <td>Mike Flanagan</td>\n",
       "      <td>Kate Siegel, Zach Gilford, Hamish Linklater, H...</td>\n",
       "      <td>NaN</td>\n",
       "      <td>September 24, 2021</td>\n",
       "      <td>2021</td>\n",
       "      <td>TV-MA</td>\n",
       "      <td>1 Season</td>\n",
       "      <td>TV Dramas, TV Horror, TV Mysteries</td>\n",
       "      <td>The arrival of a charismatic young priest brin...</td>\n",
       "    </tr>\n",
       "  </tbody>\n",
       "</table>\n",
       "</div>"
      ],
      "text/plain": [
       "   index show_id     type                  title         director  \\\n",
       "0      0      s2  TV Show          blood & water              NaN   \n",
       "1      1      s3  TV Show              ganglands  Julien Leclercq   \n",
       "2      2      s4  TV Show  jailbirds new orleans              NaN   \n",
       "3      3      s5  TV Show           kota factory              NaN   \n",
       "4      4      s6  TV Show          midnight mass    Mike Flanagan   \n",
       "\n",
       "                                                cast       country  \\\n",
       "0  Ama Qamata, Khosi Ngema, Gail Mabalane, Thaban...  South Africa   \n",
       "1  Sami Bouajila, Tracy Gotoas, Samuel Jouy, Nabi...           NaN   \n",
       "2                                                NaN           NaN   \n",
       "3  Mayur More, Jitendra Kumar, Ranjan Raj, Alam K...         India   \n",
       "4  Kate Siegel, Zach Gilford, Hamish Linklater, H...           NaN   \n",
       "\n",
       "           date_added  release_year rating   duration  \\\n",
       "0  September 24, 2021          2021  TV-MA  2 Seasons   \n",
       "1  September 24, 2021          2021  TV-MA   1 Season   \n",
       "2  September 24, 2021          2021  TV-MA   1 Season   \n",
       "3  September 24, 2021          2021  TV-MA  2 Seasons   \n",
       "4  September 24, 2021          2021  TV-MA   1 Season   \n",
       "\n",
       "                                           listed_in  \\\n",
       "0    International TV Shows, TV Dramas, TV Mysteries   \n",
       "1  Crime TV Shows, International TV Shows, TV Act...   \n",
       "2                             Docuseries, Reality TV   \n",
       "3  International TV Shows, Romantic TV Shows, TV ...   \n",
       "4                 TV Dramas, TV Horror, TV Mysteries   \n",
       "\n",
       "                                         description  \n",
       "0  After crossing paths at a party, a Cape Town t...  \n",
       "1  To protect his family from a powerful drug lor...  \n",
       "2  Feuds, flirtations and toilet talk go down amo...  \n",
       "3  In a city of coaching centers known to train I...  \n",
       "4  The arrival of a charismatic young priest brin...  "
      ]
     },
     "execution_count": 35,
     "metadata": {},
     "output_type": "execute_result"
    }
   ],
   "source": [
    "#fliter tv shows data from the data set\n",
    "tv_shows = data.loc[data.type == 'TV Show', :].reset_index()\n",
    "tv_shows.title = tv_shows.title.str.lower()\n",
    "tv_shows['index'] = tv_shows.index\n",
    "tv_shows.head()"
   ]
  },
  {
   "cell_type": "markdown",
   "id": "8ca792d2-8f1d-44a1-b963-c15c8bc6d72a",
   "metadata": {
    "tags": []
   },
   "source": [
    "# Check the duplicate values"
   ]
  },
  {
   "cell_type": "code",
   "execution_count": 36,
   "id": "f18368c6-e33b-4726-a85a-7428d2fece3b",
   "metadata": {},
   "outputs": [
    {
     "data": {
      "text/plain": [
       "0"
      ]
     },
     "execution_count": 36,
     "metadata": {},
     "output_type": "execute_result"
    }
   ],
   "source": [
    "net_movie.duplicated().sum()\n",
    "tv_shows.duplicated().sum()"
   ]
  },
  {
   "cell_type": "markdown",
   "id": "c52a7161-9206-4fa9-b1bf-19260b612371",
   "metadata": {
    "tags": []
   },
   "source": [
    "Analysis\n",
    "# Comparing number of shows and movies"
   ]
  },
  {
   "cell_type": "code",
   "execution_count": 37,
   "id": "6741e7c6-5e1a-47d5-9936-1a7248ee1e56",
   "metadata": {},
   "outputs": [],
   "source": [
    "#getting index of tv shows\n",
    "index = tv_shows.index\n",
    "no_of_rows_tv = len(index)\n",
    "\n",
    "#getting index of movies\n",
    "index = net_movie.index\n",
    "no_of_rows_movies = len(index)"
   ]
  },
  {
   "cell_type": "code",
   "execution_count": 38,
   "id": "4dd9c0a0-0781-40ff-9f88-3bcd457e1996",
   "metadata": {},
   "outputs": [
    {
     "data": {
      "image/png": "[encoded data removed]",
      "text/plain": [
       "<Figure size 936x432 with 1 Axes>"
      ]
     },
     "metadata": {},
     "output_type": "display_data"
    }
   ],
   "source": [
    "#comparing the number of tv shows and movies\n",
    "plt.figure(figsize = (13, 6))\n",
    "labels = ['TV Shows', 'Movie']\n",
    "plt.pie(data['type'].value_counts().sort_values(),labels = labels, colors = ['lightblue', 'lightslategrey'], autopct ='%2.2f%%', startangle = 90)\n",
    "plt.legend(labels = ['TV Shows', 'Movie'], loc = 'upper right')\n",
    "plt.show()"
   ]
  },
  {
   "cell_type": "markdown",
   "id": "cd8459e6-64ed-4c1d-b299-a6ca5e195caa",
   "metadata": {},
   "source": [
    "# List of latest 15 movies"
   ]
  },
  {
   "cell_type": "code",
   "execution_count": 39,
   "id": "aab52ee5-aaf6-4f54-9ac2-945fc96e9895",
   "metadata": {},
   "outputs": [
    {
     "data": {
      "application/com.datacamp.data-table.v1+json": {
       "is_truncated": false,
       "table": {
        "data": [
         {
          "index": 362,
          "release_year": 2021,
          "title": "dynasty warriors"
         },
         {
          "index": 484,
          "release_year": 2021,
          "title": "myriam fares: the journey"
         },
         {
          "index": 481,
          "release_year": 2021,
          "title": "alan saldaña: locked up"
         },
         {
          "index": 480,
          "release_year": 2021,
          "title": "xtreme"
         },
         {
          "index": 479,
          "release_year": 2021,
          "title": "trippin' with the kandasamys"
         },
         {
          "index": 478,
          "release_year": 2021,
          "title": "sweet & sour"
         },
         {
          "index": 475,
          "release_year": 2021,
          "title": "breaking boundaries: the science of our planet"
         },
         {
          "index": 473,
          "release_year": 2021,
          "title": "kitty love: an homage to cats"
         },
         {
          "index": 470,
          "release_year": 2021,
          "title": "tragic jungle"
         },
         {
          "index": 468,
          "release_year": 2021,
          "title": "awake"
         },
         {
          "index": 465,
          "release_year": 2021,
          "title": "camellia sisters"
         },
         {
          "index": 462,
          "release_year": 2021,
          "title": "wish dragon"
         },
         {
          "index": 461,
          "release_year": 2021,
          "title": "trese after dark"
         },
         {
          "index": 460,
          "release_year": 2021,
          "title": "skater girl"
         },
         {
          "index": 459,
          "release_year": 2021,
          "title": "sarbath"
         }
        ],
        "schema": {
         "fields": [
          {
           "name": "index",
           "type": "integer"
          },
          {
           "name": "title",
           "type": "string"
          },
          {
           "name": "release_year",
           "type": "integer"
          }
         ],
         "pandas_version": "0.20.0",
         "primaryKey": [
          "index"
         ]
        }
       },
       "total_rows": 15
      },
      "text/html": [
       "<div>\n",
       "<style scoped>\n",
       "    .dataframe tbody tr th:only-of-type {\n",
       "        vertical-align: middle;\n",
       "    }\n",
       "\n",
       "    .dataframe tbody tr th {\n",
       "        vertical-align: top;\n",
       "    }\n",
       "\n",
       "    .dataframe thead th {\n",
       "        text-align: right;\n",
       "    }\n",
       "</style>\n",
       "<table border=\"1\" class=\"dataframe\">\n",
       "  <thead>\n",
       "    <tr style=\"text-align: right;\">\n",
       "      <th></th>\n",
       "      <th>title</th>\n",
       "      <th>release_year</th>\n",
       "    </tr>\n",
       "  </thead>\n",
       "  <tbody>\n",
       "    <tr>\n",
       "      <th>362</th>\n",
       "      <td>dynasty warriors</td>\n",
       "      <td>2021</td>\n",
       "    </tr>\n",
       "    <tr>\n",
       "      <th>484</th>\n",
       "      <td>myriam fares: the journey</td>\n",
       "      <td>2021</td>\n",
       "    </tr>\n",
       "    <tr>\n",
       "      <th>481</th>\n",
       "      <td>alan saldaña: locked up</td>\n",
       "      <td>2021</td>\n",
       "    </tr>\n",
       "    <tr>\n",
       "      <th>480</th>\n",
       "      <td>xtreme</td>\n",
       "      <td>2021</td>\n",
       "    </tr>\n",
       "    <tr>\n",
       "      <th>479</th>\n",
       "      <td>trippin' with the kandasamys</td>\n",
       "      <td>2021</td>\n",
       "    </tr>\n",
       "    <tr>\n",
       "      <th>478</th>\n",
       "      <td>sweet &amp; sour</td>\n",
       "      <td>2021</td>\n",
       "    </tr>\n",
       "    <tr>\n",
       "      <th>475</th>\n",
       "      <td>breaking boundaries: the science of our planet</td>\n",
       "      <td>2021</td>\n",
       "    </tr>\n",
       "    <tr>\n",
       "      <th>473</th>\n",
       "      <td>kitty love: an homage to cats</td>\n",
       "      <td>2021</td>\n",
       "    </tr>\n",
       "    <tr>\n",
       "      <th>470</th>\n",
       "      <td>tragic jungle</td>\n",
       "      <td>2021</td>\n",
       "    </tr>\n",
       "    <tr>\n",
       "      <th>468</th>\n",
       "      <td>awake</td>\n",
       "      <td>2021</td>\n",
       "    </tr>\n",
       "    <tr>\n",
       "      <th>465</th>\n",
       "      <td>camellia sisters</td>\n",
       "      <td>2021</td>\n",
       "    </tr>\n",
       "    <tr>\n",
       "      <th>462</th>\n",
       "      <td>wish dragon</td>\n",
       "      <td>2021</td>\n",
       "    </tr>\n",
       "    <tr>\n",
       "      <th>461</th>\n",
       "      <td>trese after dark</td>\n",
       "      <td>2021</td>\n",
       "    </tr>\n",
       "    <tr>\n",
       "      <th>460</th>\n",
       "      <td>skater girl</td>\n",
       "      <td>2021</td>\n",
       "    </tr>\n",
       "    <tr>\n",
       "      <th>459</th>\n",
       "      <td>sarbath</td>\n",
       "      <td>2021</td>\n",
       "    </tr>\n",
       "  </tbody>\n",
       "</table>\n",
       "</div>"
      ],
      "text/plain": [
       "                                              title  release_year\n",
       "362                                dynasty warriors          2021\n",
       "484                       myriam fares: the journey          2021\n",
       "481                         alan saldaña: locked up          2021\n",
       "480                                          xtreme          2021\n",
       "479                    trippin' with the kandasamys          2021\n",
       "478                                    sweet & sour          2021\n",
       "475  breaking boundaries: the science of our planet          2021\n",
       "473                   kitty love: an homage to cats          2021\n",
       "470                                   tragic jungle          2021\n",
       "468                                           awake          2021\n",
       "465                                camellia sisters          2021\n",
       "462                                     wish dragon          2021\n",
       "461                                trese after dark          2021\n",
       "460                                     skater girl          2021\n",
       "459                                         sarbath          2021"
      ]
     },
     "execution_count": 39,
     "metadata": {},
     "output_type": "execute_result"
    }
   ],
   "source": [
    "top_15 = net_movie.sort_values(by = 'release_year' , ascending=False).head(15)\n",
    "top_15[['title' , 'release_year']]"
   ]
  },
  {
   "cell_type": "markdown",
   "id": "24dce166-d2de-4cab-8d10-568ce354a6b7",
   "metadata": {},
   "source": [
    "# Country with the most number of titles"
   ]
  },
  {
   "cell_type": "code",
   "execution_count": 40,
   "id": "f46a00ce-0438-4777-ae16-2d8c96fb0603",
   "metadata": {},
   "outputs": [
    {
     "data": {
      "text/plain": [
       "<AxesSubplot:xlabel='country', ylabel='count'>"
      ]
     },
     "execution_count": 40,
     "metadata": {},
     "output_type": "execute_result"
    },
    {
     "data": {
      "image/png": "[encoded data removed]",
      "text/plain": [
       "<Figure size 1080x504 with 1 Axes>"
      ]
     },
     "metadata": {
      "needs_background": "light"
     },
     "output_type": "display_data"
    }
   ],
   "source": [
    "plt.figure(figsize=(15,7))\n",
    "sns.countplot(data[\"country\"],hue = data[\"type\"],order = data[\"country\"].value_counts().index[:10] , palette = 'deep')"
   ]
  },
  {
   "cell_type": "markdown",
   "id": "264eda24-40e1-455b-abc4-a49ec86daa51",
   "metadata": {},
   "source": [
    "# Catagory with maximum content"
   ]
  },
  {
   "cell_type": "code",
   "execution_count": 41,
   "id": "4a957803-9aec-4a18-8349-cbdcc0655ae5",
   "metadata": {},
   "outputs": [
    {
     "data": {
      "text/plain": [
       "<AxesSubplot:ylabel='listed_in'>"
      ]
     },
     "execution_count": 41,
     "metadata": {},
     "output_type": "execute_result"
    },
    {
     "data": {
      "image/png": "[encoded data removed]",
      "text/plain": [
       "<Figure size 432x288 with 1 Axes>"
      ]
     },
     "metadata": {
      "needs_background": "light"
     },
     "output_type": "display_data"
    }
   ],
   "source": [
    "# Movie category with maximum content\n",
    "newdata= net_movie\n",
    "new= newdata.groupby('listed_in').count()\n",
    "category = new.sort_values(by = 'index' ,ascending=False).head(10)\n",
    "category1= category[['type']]\n",
    "category1.plot(kind =\"barh\")"
   ]
  },
  {
   "cell_type": "code",
   "execution_count": 42,
   "id": "58a8fded-69df-459e-8ec1-4686e2cbae33",
   "metadata": {},
   "outputs": [
    {
     "data": {
      "text/plain": [
       "<AxesSubplot:ylabel='listed_in'>"
      ]
     },
     "execution_count": 42,
     "metadata": {},
     "output_type": "execute_result"
    },
    {
     "data": {
      "image/png": "[encoded data removed]",
      "text/plain": [
       "<Figure size 432x288 with 1 Axes>"
      ]
     },
     "metadata": {
      "needs_background": "light"
     },
     "output_type": "display_data"
    }
   ],
   "source": [
    "#Tv series with maximum content\n",
    "newtv= tv_shows\n",
    "new1= newtv.groupby('listed_in').count()\n",
    "tvcat = new1.sort_values(by = 'index' ,ascending=False).head(10)\n",
    "tvcat1= tvcat[['type']]\n",
    "tvcat1.plot(kind =\"barh\")"
   ]
  },
  {
   "cell_type": "markdown",
   "id": "a64e0c6d-7b63-4378-a14c-2157130632e8",
   "metadata": {},
   "source": [
    "# Duration of top 20 movies with respect to their countries"
   ]
  },
  {
   "cell_type": "code",
   "execution_count": 43,
   "id": "68ea43bc-e2ba-4d1b-bd0d-61cdab1eab03",
   "metadata": {},
   "outputs": [
    {
     "data": {
      "image/png": "[encoded data removed]",
      "text/plain": [
       "<Figure size 864x720 with 1 Axes>"
      ]
     },
     "metadata": {
      "needs_background": "light"
     },
     "output_type": "display_data"
    }
   ],
   "source": [
    "# Duration of top 10 movies with respect to their countries\n",
    "net_movie['time'] = net_movie['duration'].str.strip('min')\n",
    "net_movie['time'] = net_movie['time'].fillna(0)    #fill empty values\n",
    "net_movie['time'] = net_movie['time'].astype('int')\n",
    "net_movie['screenplay'] = net_movie['time']/60\n",
    "\n",
    "top_20 = net_movie.sort_values(by = 'screenplay' , ascending=False).head(20)\n",
    "plt.figure(figsize=(12,10))\n",
    "sns.barplot(data= top_20 , y= 'title' , x='screenplay' , hue = 'country' , dodge = False)\n",
    "plt.legend(loc = 'lower right')\n",
    "plt.xlabel('Total hours')\n",
    "plt.ylabel('Movie')\n",
    "plt.title('Top 20 Movies by Run Time')\n",
    "plt.show()\n"
   ]
  },
  {
   "cell_type": "markdown",
   "id": "baf08e3b-0dd3-47cb-b1a7-f4ba16da2ab3",
   "metadata": {},
   "source": [
    "# Building Recommendation system\n",
    "Using cosine similarity scores for all movies based on their plot descriptions and recommend movies based on that similarity score threshold."
   ]
  },
  {
   "cell_type": "code",
   "execution_count": 44,
   "id": "3beb63ae-d6e1-4454-b0df-648f717af39f",
   "metadata": {},
   "outputs": [
    {
     "data": {
      "text/plain": [
       "Index(['index', 'show_id', 'type', 'title', 'director', 'cast', 'country',\n",
       "       'date_added', 'release_year', 'rating', 'duration', 'listed_in',\n",
       "       'description', 'time', 'screenplay'],\n",
       "      dtype='object')"
      ]
     },
     "execution_count": 44,
     "metadata": {},
     "output_type": "execute_result"
    }
   ],
   "source": [
    "#get column names\n",
    "net_movie.columns"
   ]
  },
  {
   "cell_type": "markdown",
   "id": "4161aa01-6019-413e-bd44-5c17d5eb6a46",
   "metadata": {},
   "source": [
    "# Select a few features and create a column in a data frame that combines all the selected features into one string:"
   ]
  },
  {
   "cell_type": "code",
   "execution_count": 45,
   "id": "63032d3a-a6fc-48cd-906b-762339ce166e",
   "metadata": {},
   "outputs": [],
   "source": [
    "#selecting features\n",
    "features = ['director' , 'cast' ,'country' , 'description' ,'listed_in' ]"
   ]
  },
  {
   "cell_type": "markdown",
   "id": "524994f7-bd82-48ab-81e2-537ca9100e3a",
   "metadata": {},
   "source": [
    "# By using the apply method we will transform this function to all the rows of the data frame:"
   ]
  },
  {
   "cell_type": "code",
   "execution_count": 46,
   "id": "18250aab-5302-4653-b0f6-f8cf1bb1274d",
   "metadata": {},
   "outputs": [
    {
     "name": "stdout",
     "output_type": "stream",
     "text": [
      "Combine Feature:  0       Kirsten Johnson  United States As her father n...\n",
      "1       Robert Cullen, José Luis Ucha Vanessa Hudgens,...\n",
      "2       Haile Gerima Kofi Ghanaba, Oyafunmike Ogunlano...\n",
      "3       Theodore Melfi Melissa McCarthy, Chris O'Dowd,...\n",
      "4       Christian Schwochow Luna Wedler, Jannis Niewöh...\n",
      "                              ...                        \n",
      "6126    Majid Al Ansari Ali Suliman, Saleh Bakri, Yasa...\n",
      "6127    David Fincher Mark Ruffalo, Jake Gyllenhaal, R...\n",
      "6128    Ruben Fleischer Jesse Eisenberg, Woody Harrels...\n",
      "6129    Peter Hewitt Tim Allen, Courteney Cox, Chevy C...\n",
      "6130    Mozez Singh Vicky Kaushal, Sarah-Jane Dias, Ra...\n",
      "Name: combine_features, Length: 6131, dtype: object\n"
     ]
    }
   ],
   "source": [
    "#create a column in dataframe which combines all the selected features\n",
    "for feature in features:\n",
    "    net_movie[features]= net_movie[features].fillna('')\n",
    "def combine_features(row):\n",
    "    return row['director'] + ' ' + row['cast'] + ' ' + row['country'] + ' ' + row['description'] + ' ' + row['listed_in']\n",
    "net_movie['combine_features'] = net_movie.apply(combine_features, axis=1)\n",
    "print(\"Combine Feature: \" , net_movie['combine_features'])"
   ]
  },
  {
   "cell_type": "markdown",
   "id": "6bc4b4a1-8761-48af-99da-ba1ade40154d",
   "metadata": {},
   "source": [
    "#### Scikit-learn's CountVectorizer is used to convert a collection of text documents to a vector of term/token counts.\n",
    "Now we need to check the similarities between the content for which we create the count metric and then get the cosine similarity to get the similarity score:"
   ]
  },
  {
   "cell_type": "code",
   "execution_count": 47,
   "id": "2d859c2d-f70c-4b85-9a16-62fcb63c7215",
   "metadata": {},
   "outputs": [],
   "source": [
    "#create count matrix from this new combine column\n",
    "cv = CountVectorizer()\n",
    "count_matrix = cv.fit_transform(net_movie['combine_features'])\n",
    "cosine_sim = cosine_similarity(count_matrix)"
   ]
  },
  {
   "cell_type": "markdown",
   "id": "641ea1f1-6590-452b-ad12-48a6bdf13bc1",
   "metadata": {},
   "source": [
    "#### Print the topmost similarity score:"
   ]
  },
  {
   "cell_type": "code",
   "execution_count": 48,
   "id": "a29c55f4-b786-4155-a0c5-c71415064c7a",
   "metadata": {},
   "outputs": [],
   "source": [
    "#get index of the movie from the title\n",
    "def title_from_index(index):\n",
    "    return net_movie[net_movie.index == index]['title'].values[0]\n",
    "\n",
    "def title_from_index(df ,index):\n",
    "    return df[df.index == index]['title'].values[0]\n",
    "\n",
    "def title_from_index(df ,title):\n",
    "    return df[df.title == title]['index'].values[0]"
   ]
  },
  {
   "cell_type": "code",
   "execution_count": 51,
   "id": "1f29474c-c701-4f5c-a297-760a1d453a2b",
   "metadata": {},
   "outputs": [
    {
     "name": "stdout",
     "output_type": "stream",
     "text": [
      "Recommended Movies for  ' the matrix ' in descending order\n",
      "----------------------------------------------------------\n",
      "the matrix reloaded\n",
      "the matrix revolutions\n",
      "jupiter ascending\n",
      "the time machine\n",
      "the brothers grimm\n"
     ]
    }
   ],
   "source": [
    "#get the list of similar movies in descending order of similarity score\n",
    "def get_recommendations(title, cosine_sim=cosine_sim):\n",
    "    if title.lower() in [i for i in net_movie['title'].str.lower()]:\n",
    "        movie_index = title_from_index(net_movie , title)\n",
    "        similar_movies = list(enumerate(cosine_sim[movie_index]))\n",
    "        similar_movies = sorted(similar_movies, key=lambda x: x[1], reverse=True)\n",
    "        similar_movies = similar_movies[1:6]\n",
    "        movie_indices = [i[0] for i in similar_movies]\n",
    "        mov_list = net_movie['title'].iloc[movie_indices]\n",
    "        print('Recommended Movies for  \\' {} \\' in descending order'.format(title))\n",
    "        print('-'*(48+len(title)))\n",
    "        print(*mov_list, sep = \"\\n\")\n",
    "\n",
    "    else:\n",
    "        print('We have no movie to recommend for \\' {} \\' at that time. Try with other similar movies.'.format(title))\n",
    "    \n",
    "get_recommendations('the matrix')"
   ]
  },
  {
   "cell_type": "markdown",
   "id": "76b9b145-8041-4808-88bf-78a39bcab262",
   "metadata": {},
   "source": [
    "#### Great! I have selected a movie called “the matrix” and on the bases of similarities between the movie top 5 similar movies are listed."
   ]
  }
 ],
 "metadata": {
  "kernelspec": {
   "display_name": "Python 3 (ipykernel)",
   "language": "python",
   "name": "python3"
  },
  "language_info": {
   "codemirror_mode": {
    "name": "ipython",
    "version": 3
   },
   "file_extension": ".py",
   "mimetype": "text/x-python",
   "name": "python",
   "nbconvert_exporter": "python",
   "pygments_lexer": "ipython3",
   "version": "3.8.10"
  }
 },
 "nbformat": 4,
 "nbformat_minor": 5
}
